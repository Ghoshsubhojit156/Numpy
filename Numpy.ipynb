{
 "cells": [
  {
   "cell_type": "code",
   "execution_count": 1,
   "id": "55fdbe91",
   "metadata": {},
   "outputs": [],
   "source": [
    "import numpy as np"
   ]
  },
  {
   "cell_type": "code",
   "execution_count": 2,
   "id": "be194a44",
   "metadata": {},
   "outputs": [],
   "source": [
    "l=[1,2,3,4,5,6,7,8,9]\n",
    "arr=np.array(l)"
   ]
  },
  {
   "cell_type": "code",
   "execution_count": 3,
   "id": "1ce83375",
   "metadata": {},
   "outputs": [
    {
     "data": {
      "text/plain": [
       "array([1, 2, 3, 4, 5, 6, 7, 8, 9])"
      ]
     },
     "execution_count": 3,
     "metadata": {},
     "output_type": "execute_result"
    }
   ],
   "source": [
    "arr"
   ]
  },
  {
   "cell_type": "code",
   "execution_count": 4,
   "id": "682340d6",
   "metadata": {},
   "outputs": [
    {
     "data": {
      "text/plain": [
       "numpy.ndarray"
      ]
     },
     "execution_count": 4,
     "metadata": {},
     "output_type": "execute_result"
    }
   ],
   "source": [
    "type(arr)"
   ]
  },
  {
   "cell_type": "code",
   "execution_count": 5,
   "id": "174b82d9",
   "metadata": {},
   "outputs": [
    {
     "data": {
      "text/plain": [
       "(9,)"
      ]
     },
     "execution_count": 5,
     "metadata": {},
     "output_type": "execute_result"
    }
   ],
   "source": [
    "arr.shape"
   ]
  },
  {
   "cell_type": "code",
   "execution_count": 6,
   "id": "239078ca",
   "metadata": {},
   "outputs": [
    {
     "data": {
      "text/plain": [
       "9"
      ]
     },
     "execution_count": 6,
     "metadata": {},
     "output_type": "execute_result"
    }
   ],
   "source": [
    "len(arr)"
   ]
  },
  {
   "cell_type": "code",
   "execution_count": 9,
   "id": "dda629d9",
   "metadata": {},
   "outputs": [
    {
     "data": {
      "text/plain": [
       "array([[1, 2, 3],\n",
       "       [4, 5, 6],\n",
       "       [7, 8, 9]])"
      ]
     },
     "execution_count": 9,
     "metadata": {},
     "output_type": "execute_result"
    }
   ],
   "source": [
    "arr.reshape(3,3)"
   ]
  },
  {
   "cell_type": "code",
   "execution_count": 20,
   "id": "d9a8ef0e",
   "metadata": {},
   "outputs": [],
   "source": [
    "arr1=arr.copy()"
   ]
  },
  {
   "cell_type": "code",
   "execution_count": 21,
   "id": "55a11be0",
   "metadata": {},
   "outputs": [
    {
     "data": {
      "text/plain": [
       "array([1, 2, 3, 4, 5, 6, 7, 8, 9])"
      ]
     },
     "execution_count": 21,
     "metadata": {},
     "output_type": "execute_result"
    }
   ],
   "source": [
    "arr1"
   ]
  },
  {
   "cell_type": "code",
   "execution_count": 55,
   "id": "66cd0ee3",
   "metadata": {},
   "outputs": [],
   "source": [
    "# BroadCasting with array\n",
    "arr1[5:]=200"
   ]
  },
  {
   "cell_type": "code",
   "execution_count": 23,
   "id": "337089dd",
   "metadata": {},
   "outputs": [
    {
     "data": {
      "text/plain": [
       "array([  1,   2,   3,   4,   5, 200, 200, 200, 200])"
      ]
     },
     "execution_count": 23,
     "metadata": {},
     "output_type": "execute_result"
    }
   ],
   "source": [
    "arr1"
   ]
  },
  {
   "cell_type": "code",
   "execution_count": 28,
   "id": "f745022d",
   "metadata": {},
   "outputs": [],
   "source": [
    "arr2=arr1.reshape(3,3)"
   ]
  },
  {
   "cell_type": "code",
   "execution_count": 29,
   "id": "68bea28b",
   "metadata": {},
   "outputs": [
    {
     "data": {
      "text/plain": [
       "array([[200],\n",
       "       [200]])"
      ]
     },
     "execution_count": 29,
     "metadata": {},
     "output_type": "execute_result"
    }
   ],
   "source": [
    "arr2[1:,2:]"
   ]
  },
  {
   "cell_type": "code",
   "execution_count": 31,
   "id": "06c907f0",
   "metadata": {},
   "outputs": [
    {
     "data": {
      "text/plain": [
       "array([ 0.        ,  0.20408163,  0.40816327,  0.6122449 ,  0.81632653,\n",
       "        1.02040816,  1.2244898 ,  1.42857143,  1.63265306,  1.83673469,\n",
       "        2.04081633,  2.24489796,  2.44897959,  2.65306122,  2.85714286,\n",
       "        3.06122449,  3.26530612,  3.46938776,  3.67346939,  3.87755102,\n",
       "        4.08163265,  4.28571429,  4.48979592,  4.69387755,  4.89795918,\n",
       "        5.10204082,  5.30612245,  5.51020408,  5.71428571,  5.91836735,\n",
       "        6.12244898,  6.32653061,  6.53061224,  6.73469388,  6.93877551,\n",
       "        7.14285714,  7.34693878,  7.55102041,  7.75510204,  7.95918367,\n",
       "        8.16326531,  8.36734694,  8.57142857,  8.7755102 ,  8.97959184,\n",
       "        9.18367347,  9.3877551 ,  9.59183673,  9.79591837, 10.        ])"
      ]
     },
     "execution_count": 31,
     "metadata": {},
     "output_type": "execute_result"
    }
   ],
   "source": [
    "np.linspace(0,10,50)"
   ]
  },
  {
   "cell_type": "code",
   "execution_count": 40,
   "id": "25068ef3",
   "metadata": {},
   "outputs": [],
   "source": [
    "##Multidimentional array for data analysis like 2D and 3D array\n"
   ]
  },
  {
   "cell_type": "code",
   "execution_count": 34,
   "id": "ea91c4db",
   "metadata": {},
   "outputs": [],
   "source": [
    "l=np.array([1,2,3,4,5])\n",
    "l2=np.array([6,7,8,9,10])\n",
    "l3=np.array([11,12,13,14,15])"
   ]
  },
  {
   "cell_type": "code",
   "execution_count": 43,
   "id": "3e4ffaf3",
   "metadata": {},
   "outputs": [],
   "source": [
    "#2D array\n",
    "arr4=np.array([l,l2,l3])"
   ]
  },
  {
   "cell_type": "code",
   "execution_count": 44,
   "id": "d99420e8",
   "metadata": {},
   "outputs": [
    {
     "data": {
      "text/plain": [
       "array([[ 1,  2,  3,  4,  5],\n",
       "       [ 6,  7,  8,  9, 10],\n",
       "       [11, 12, 13, 14, 15]])"
      ]
     },
     "execution_count": 44,
     "metadata": {},
     "output_type": "execute_result"
    }
   ],
   "source": [
    "arr4"
   ]
  },
  {
   "cell_type": "code",
   "execution_count": 50,
   "id": "427cbdc6",
   "metadata": {},
   "outputs": [],
   "source": [
    "#arange function arange(start,stop,step)\n",
    "ran=np.arange(1,10,2)"
   ]
  },
  {
   "cell_type": "code",
   "execution_count": 51,
   "id": "b3dbad18",
   "metadata": {},
   "outputs": [
    {
     "data": {
      "text/plain": [
       "array([1, 3, 5, 7, 9])"
      ]
     },
     "execution_count": 51,
     "metadata": {},
     "output_type": "execute_result"
    }
   ],
   "source": [
    "ran"
   ]
  },
  {
   "cell_type": "code",
   "execution_count": 52,
   "id": "9c6ae630",
   "metadata": {},
   "outputs": [],
   "source": [
    "ran1=np.arange(1,10)"
   ]
  },
  {
   "cell_type": "code",
   "execution_count": 54,
   "id": "b77c1cb2",
   "metadata": {},
   "outputs": [
    {
     "data": {
      "text/plain": [
       "array([1, 2, 3, 4, 5, 6, 7, 8, 9])"
      ]
     },
     "execution_count": 54,
     "metadata": {},
     "output_type": "execute_result"
    }
   ],
   "source": [
    "ran1\n"
   ]
  },
  {
   "cell_type": "code",
   "execution_count": 61,
   "id": "7c89e2a9",
   "metadata": {},
   "outputs": [
    {
     "name": "stdout",
     "output_type": "stream",
     "text": [
      "True\n",
      "True\n",
      "True\n",
      "True\n",
      "True\n",
      "False\n",
      "False\n",
      "False\n",
      "False\n"
     ]
    }
   ],
   "source": [
    "ran2=100\n",
    "def check(val):\n",
    "    if(val<ran2):\n",
    "        return True\n",
    "    else:\n",
    "        return False\n",
    "for i in arr1:\n",
    "    print(check(i))"
   ]
  },
  {
   "cell_type": "code",
   "execution_count": 62,
   "id": "8a22506e",
   "metadata": {},
   "outputs": [
    {
     "data": {
      "text/plain": [
       "array([ True,  True,  True,  True,  True, False, False, False, False])"
      ]
     },
     "execution_count": 62,
     "metadata": {},
     "output_type": "execute_result"
    }
   ],
   "source": [
    "ran3=100\n",
    "arr1<ran3"
   ]
  },
  {
   "cell_type": "code",
   "execution_count": 66,
   "id": "f1a7fa66",
   "metadata": {},
   "outputs": [],
   "source": [
    "arr5=np.arange(1,10).reshape(3,3)"
   ]
  },
  {
   "cell_type": "code",
   "execution_count": 64,
   "id": "d46faaa7",
   "metadata": {},
   "outputs": [
    {
     "data": {
      "text/plain": [
       "array([[1, 2, 3],\n",
       "       [4, 5, 6],\n",
       "       [7, 8, 9]])"
      ]
     },
     "execution_count": 64,
     "metadata": {},
     "output_type": "execute_result"
    }
   ],
   "source": [
    "arr5"
   ]
  },
  {
   "cell_type": "code",
   "execution_count": 67,
   "id": "9a3ed193",
   "metadata": {},
   "outputs": [],
   "source": [
    "arr6=np.array([1,2,3,4,5,6])\n",
    "arr7=np.array([7,8,9,10,11,12])"
   ]
  },
  {
   "cell_type": "code",
   "execution_count": 70,
   "id": "ad0102f3",
   "metadata": {},
   "outputs": [
    {
     "data": {
      "text/plain": [
       "array([ 7, 16, 27, 40, 55, 72])"
      ]
     },
     "execution_count": 70,
     "metadata": {},
     "output_type": "execute_result"
    }
   ],
   "source": [
    "arr6*arr7"
   ]
  },
  {
   "cell_type": "code",
   "execution_count": 71,
   "id": "0f13189b",
   "metadata": {},
   "outputs": [
    {
     "data": {
      "text/plain": [
       "217"
      ]
     },
     "execution_count": 71,
     "metadata": {},
     "output_type": "execute_result"
    }
   ],
   "source": [
    "np.matmul(arr6,arr7)"
   ]
  },
  {
   "cell_type": "code",
   "execution_count": 83,
   "id": "8c5576ca",
   "metadata": {},
   "outputs": [],
   "source": [
    "#Random Funtion\n",
    "rand=np.random.rand(3,3)"
   ]
  },
  {
   "cell_type": "code",
   "execution_count": 84,
   "id": "dbaf80a2",
   "metadata": {},
   "outputs": [
    {
     "data": {
      "text/plain": [
       "array([[0.47907805, 0.12763583, 0.68706371],\n",
       "       [0.23431267, 0.8592574 , 0.89568072],\n",
       "       [0.26652041, 0.47741633, 0.35836469]])"
      ]
     },
     "execution_count": 84,
     "metadata": {},
     "output_type": "execute_result"
    }
   ],
   "source": [
    "rand"
   ]
  },
  {
   "cell_type": "code",
   "execution_count": 97,
   "id": "b6dcea8f",
   "metadata": {},
   "outputs": [],
   "source": [
    "#ones and zeroes in Numpy\n",
    "recap=np.ones(4,dtype=complex)"
   ]
  },
  {
   "cell_type": "code",
   "execution_count": 98,
   "id": "373ec7b3",
   "metadata": {},
   "outputs": [
    {
     "data": {
      "text/plain": [
       "array([1.+0.j, 1.+0.j, 1.+0.j, 1.+0.j])"
      ]
     },
     "execution_count": 98,
     "metadata": {},
     "output_type": "execute_result"
    }
   ],
   "source": [
    "recap"
   ]
  },
  {
   "cell_type": "code",
   "execution_count": 99,
   "id": "a01b5e10",
   "metadata": {},
   "outputs": [],
   "source": [
    "recap1=np.ones(4,dtype=int)"
   ]
  },
  {
   "cell_type": "code",
   "execution_count": 100,
   "id": "4c069877",
   "metadata": {},
   "outputs": [
    {
     "data": {
      "text/plain": [
       "array([1, 1, 1, 1])"
      ]
     },
     "execution_count": 100,
     "metadata": {},
     "output_type": "execute_result"
    }
   ],
   "source": [
    "recap1"
   ]
  },
  {
   "cell_type": "code",
   "execution_count": 102,
   "id": "ccf0b6b9",
   "metadata": {},
   "outputs": [
    {
     "data": {
      "text/plain": [
       "array([1., 1., 1., 1.])"
      ]
     },
     "execution_count": 102,
     "metadata": {},
     "output_type": "execute_result"
    }
   ],
   "source": [
    "#by default it is present in float\n",
    "recap2=np.ones(4)\n",
    "recap2"
   ]
  },
  {
   "cell_type": "code",
   "execution_count": 115,
   "id": "b1a8801f",
   "metadata": {},
   "outputs": [],
   "source": [
    "#Finding min,max,mean,median,variance,standard deviation from a array"
   ]
  },
  {
   "cell_type": "code",
   "execution_count": 116,
   "id": "14c11ca4",
   "metadata": {},
   "outputs": [],
   "source": [
    "rand2=np.random.randn(3,3)"
   ]
  },
  {
   "cell_type": "code",
   "execution_count": 117,
   "id": "2c0f5514",
   "metadata": {},
   "outputs": [
    {
     "data": {
      "text/plain": [
       "array([[-2.71872255, -1.24178192, -0.32589126],\n",
       "       [-0.70461045,  0.04245232, -0.06475016],\n",
       "       [ 0.42440018,  2.56447951, -1.935586  ]])"
      ]
     },
     "execution_count": 117,
     "metadata": {},
     "output_type": "execute_result"
    }
   ],
   "source": [
    "rand2"
   ]
  },
  {
   "cell_type": "code",
   "execution_count": 118,
   "id": "3b1f5d90",
   "metadata": {},
   "outputs": [
    {
     "data": {
      "text/plain": [
       "2.5644795083111775"
      ]
     },
     "execution_count": 118,
     "metadata": {},
     "output_type": "execute_result"
    }
   ],
   "source": [
    "np.max(rand2)"
   ]
  },
  {
   "cell_type": "code",
   "execution_count": 119,
   "id": "29fa1faa",
   "metadata": {},
   "outputs": [
    {
     "data": {
      "text/plain": [
       "-2.7187225529966765"
      ]
     },
     "execution_count": 119,
     "metadata": {},
     "output_type": "execute_result"
    }
   ],
   "source": [
    "np.min(rand2)"
   ]
  },
  {
   "cell_type": "code",
   "execution_count": 120,
   "id": "38d48a0a",
   "metadata": {},
   "outputs": [
    {
     "data": {
      "text/plain": [
       "-0.44000114809082214"
      ]
     },
     "execution_count": 120,
     "metadata": {},
     "output_type": "execute_result"
    }
   ],
   "source": [
    "np.mean(rand2)"
   ]
  },
  {
   "cell_type": "code",
   "execution_count": 121,
   "id": "5a90617e",
   "metadata": {},
   "outputs": [
    {
     "data": {
      "text/plain": [
       "-0.32589126259099693"
      ]
     },
     "execution_count": 121,
     "metadata": {},
     "output_type": "execute_result"
    }
   ],
   "source": [
    "np.median(rand2)"
   ]
  },
  {
   "cell_type": "code",
   "execution_count": 122,
   "id": "249d656e",
   "metadata": {},
   "outputs": [
    {
     "data": {
      "text/plain": [
       "1.4260631575963212"
      ]
     },
     "execution_count": 122,
     "metadata": {},
     "output_type": "execute_result"
    }
   ],
   "source": [
    "np.std(rand2)"
   ]
  },
  {
   "cell_type": "code",
   "execution_count": 123,
   "id": "c8c883a4",
   "metadata": {},
   "outputs": [
    {
     "data": {
      "text/plain": [
       "2.03365612945359"
      ]
     },
     "execution_count": 123,
     "metadata": {},
     "output_type": "execute_result"
    }
   ],
   "source": [
    "np.var(rand2)"
   ]
  },
  {
   "cell_type": "code",
   "execution_count": 125,
   "id": "883fb37a",
   "metadata": {},
   "outputs": [],
   "source": [
    "# Dot product of an array in numpy\n"
   ]
  },
  {
   "cell_type": "code",
   "execution_count": 149,
   "id": "11789c76",
   "metadata": {},
   "outputs": [],
   "source": [
    "lis=np.arange(0,12).reshape(4,3)"
   ]
  },
  {
   "cell_type": "code",
   "execution_count": 150,
   "id": "868291b9",
   "metadata": {},
   "outputs": [
    {
     "data": {
      "text/plain": [
       "array([[ 0,  1,  2],\n",
       "       [ 3,  4,  5],\n",
       "       [ 6,  7,  8],\n",
       "       [ 9, 10, 11]])"
      ]
     },
     "execution_count": 150,
     "metadata": {},
     "output_type": "execute_result"
    }
   ],
   "source": [
    "lis"
   ]
  },
  {
   "cell_type": "code",
   "execution_count": 158,
   "id": "49e2bbee",
   "metadata": {},
   "outputs": [],
   "source": [
    "lis1=np.arange(10,22).reshape(3,4)"
   ]
  },
  {
   "cell_type": "code",
   "execution_count": 159,
   "id": "d2c14b14",
   "metadata": {},
   "outputs": [
    {
     "data": {
      "text/plain": [
       "array([[10, 11, 12, 13],\n",
       "       [14, 15, 16, 17],\n",
       "       [18, 19, 20, 21]])"
      ]
     },
     "execution_count": 159,
     "metadata": {},
     "output_type": "execute_result"
    }
   ],
   "source": [
    "lis1\n"
   ]
  },
  {
   "cell_type": "code",
   "execution_count": 160,
   "id": "5c177b9f",
   "metadata": {},
   "outputs": [],
   "source": [
    "dotproduct=np.dot(lis,lis1)"
   ]
  },
  {
   "cell_type": "code",
   "execution_count": 161,
   "id": "e70df736",
   "metadata": {},
   "outputs": [
    {
     "data": {
      "text/plain": [
       "array([[ 50,  53,  56,  59],\n",
       "       [176, 188, 200, 212],\n",
       "       [302, 323, 344, 365],\n",
       "       [428, 458, 488, 518]])"
      ]
     },
     "execution_count": 161,
     "metadata": {},
     "output_type": "execute_result"
    }
   ],
   "source": [
    "dotproduct"
   ]
  },
  {
   "cell_type": "code",
   "execution_count": 163,
   "id": "f3ba6b2e",
   "metadata": {},
   "outputs": [],
   "source": [
    "#Matrix multiplication\n"
   ]
  },
  {
   "cell_type": "code",
   "execution_count": 169,
   "id": "908171b2",
   "metadata": {},
   "outputs": [
    {
     "data": {
      "text/plain": [
       "array([[ 50,  68],\n",
       "       [122, 167]])"
      ]
     },
     "execution_count": 169,
     "metadata": {},
     "output_type": "execute_result"
    }
   ],
   "source": [
    "m=[[1,2,3],[4,5,6]]\n",
    "m1=[[7,8,9],[10,11,12]]\n",
    "np.matmul(m,np.transpose(m1))"
   ]
  },
  {
   "cell_type": "code",
   "execution_count": 174,
   "id": "b194501f",
   "metadata": {},
   "outputs": [
    {
     "data": {
      "text/plain": [
       "array([[1, 0, 0, 0],\n",
       "       [0, 1, 0, 0],\n",
       "       [0, 0, 1, 0],\n",
       "       [0, 0, 0, 1]])"
      ]
     },
     "execution_count": 174,
     "metadata": {},
     "output_type": "execute_result"
    }
   ],
   "source": [
    "#Identity matrix code is eye(value) function\n",
    "np.eye(4,dtype=int)"
   ]
  },
  {
   "cell_type": "code",
   "execution_count": null,
   "id": "bf07f924",
   "metadata": {},
   "outputs": [],
   "source": []
  }
 ],
 "metadata": {
  "kernelspec": {
   "display_name": "Python 3 (ipykernel)",
   "language": "python",
   "name": "python3"
  },
  "language_info": {
   "codemirror_mode": {
    "name": "ipython",
    "version": 3
   },
   "file_extension": ".py",
   "mimetype": "text/x-python",
   "name": "python",
   "nbconvert_exporter": "python",
   "pygments_lexer": "ipython3",
   "version": "3.10.0"
  }
 },
 "nbformat": 4,
 "nbformat_minor": 5
}
